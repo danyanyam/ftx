{
 "cells": [
  {
   "cell_type": "code",
   "execution_count": 3,
   "metadata": {},
   "outputs": [],
   "source": [
    "import sys\n",
    "import pandas as pd\n",
    "import datetime as dt\n",
    "from queue import Queue\n",
    "\n",
    "sys.path.append(\"../\") # adding path to library\n",
    "\n",
    "from library.backtester import backtest\n",
    "from library.backtester.portfolio import NaivePortfolio\n",
    "from library.backtester.strategy import BuyAndHoldStrategy\n",
    "from library.backtester.data import FtxHistoricCSVDataHandler\n",
    "from library.backtester.execution import SimulatedExecutionHandler"
   ]
  },
  {
   "cell_type": "markdown",
   "metadata": {},
   "source": [
    "### Создаем очередь событий"
   ]
  },
  {
   "cell_type": "markdown",
   "metadata": {},
   "source": [
    "Event-driven backtest основывается на принципе появления событий. Каждое событие несет в себе какое-то событие, будь то появление маркет даты, или исполнения ордеров. В нашем примере мы создаем очередь событий и предоставляем к ней доступ для всех модулей, чтобы каждый элемент имел к ней доступ"
   ]
  },
  {
   "cell_type": "code",
   "execution_count": 50,
   "metadata": {},
   "outputs": [],
   "source": [
    "events = Queue()"
   ]
  },
  {
   "cell_type": "markdown",
   "metadata": {},
   "source": [
    "### Показываем бэктестеру, где лежат наши данные"
   ]
  },
  {
   "cell_type": "markdown",
   "metadata": {},
   "source": [
    "Вообще, архитектура позволяет дописывать обработчики данных для разных форматов, но в примере мы рассмотрим обработчик csv данных, предполагающий наличие csv файлов в формате, в котором ftx выдает исторические данные. Предполагается, что для каждого актива имеем по csv файлу с названием *ticker*.csv, пример ниже:"
   ]
  },
  {
   "cell_type": "code",
   "execution_count": 51,
   "metadata": {},
   "outputs": [
    {
     "name": "stdout",
     "output_type": "stream",
     "text": [
      "ABNBUSD.csv BTCUSDT.csv ETHUSDT.csv\r\n"
     ]
    }
   ],
   "source": [
    "!ls ../data"
   ]
  },
  {
   "cell_type": "markdown",
   "metadata": {},
   "source": [
    "О том, как получить данные в таком формате можно почитать в предыдущем ноутбуке\n",
    "\n",
    "Объявляем обработчик данных, предоставляя ему доступ к очереди событий, указывая на директорию с цсвшками и передавая список тикеров, которые мы будем гонять в бэктестере. Кстати, мы назвали переменную bars, потому что исторические данные -- это свечи, а не просто цена закрытия."
   ]
  },
  {
   "cell_type": "code",
   "execution_count": 52,
   "metadata": {},
   "outputs": [
    {
     "name": "stdout",
     "output_type": "stream",
     "text": [
      "startTime,time,open,high,low,close,volume\r\n",
      "2020-12-09T04:30:00+00:00,1607488200000.0,60.0775,60.0775,59.865,59.865,0.0\r\n",
      "2020-12-09T04:35:00+00:00,1607488500000.0,59.865,59.99,59.865,59.99,0.0\r\n"
     ]
    }
   ],
   "source": [
    "!head -n 3 ../data/ABNBUSD.csv"
   ]
  },
  {
   "cell_type": "code",
   "execution_count": 53,
   "metadata": {},
   "outputs": [],
   "source": [
    "bars = FtxHistoricCSVDataHandler(events=events, csv_dir='../data', symbol_list=['BTCUSDT'])"
   ]
  },
  {
   "cell_type": "markdown",
   "metadata": {},
   "source": [
    "### Определяем используемую стратегию"
   ]
  },
  {
   "cell_type": "markdown",
   "metadata": {},
   "source": [
    "В трейдинге широко распространенной практикой является тестирование стратегий в сравнении с каким-либо бенчмарком. Обычно бэнчмарк выбирается исходя из каких-то специфичных размышлений, я выбрал в качестве первого приближения считать бэнчмарком портфель buy and hold. Стратегия наследуется от шаблона стратегий, описанного в `library.backtester.strategy`, поэтому можно легко дописывать свои стратегии."
   ]
  },
  {
   "cell_type": "code",
   "execution_count": 54,
   "metadata": {},
   "outputs": [],
   "source": [
    "strategy = BuyAndHoldStrategy(bars=bars, events=events)"
   ]
  },
  {
   "cell_type": "markdown",
   "metadata": {},
   "source": [
    "### Определяем портфель"
   ]
  },
  {
   "cell_type": "markdown",
   "metadata": {},
   "source": [
    "Портфель выполняет функции по анализу проведенных торгов, сбору метрик и аггрегации результатов. Кроме того, портфель отдает приказы брокеру, руководствуясь сигналами стратегии и наличию доступных средств. Нынешняя реализация портфеля наивна в смысле отсуствия риск-менеджмента, а также фиксированному количеству покупаемых активов."
   ]
  },
  {
   "cell_type": "code",
   "execution_count": 55,
   "metadata": {},
   "outputs": [],
   "source": [
    "portfolio = NaivePortfolio(bars=bars, events=events, start_date=dt.datetime(2020, 8, 1), initial_capital=6_500)"
   ]
  },
  {
   "cell_type": "markdown",
   "metadata": {},
   "source": [
    "### Добавляем исполнителя сделок"
   ]
  },
  {
   "cell_type": "code",
   "execution_count": 56,
   "metadata": {},
   "outputs": [],
   "source": [
    "broker = SimulatedExecutionHandler(events)"
   ]
  },
  {
   "cell_type": "markdown",
   "metadata": {},
   "source": [
    "### Запускам бэктестер"
   ]
  },
  {
   "cell_type": "code",
   "execution_count": null,
   "metadata": {},
   "outputs": [],
   "source": [
    "backtest(events, bars, strategy, portfolio, broker)\n",
    "results = portfolio.create_equity_curve_dataframe()"
   ]
  },
  {
   "cell_type": "markdown",
   "metadata": {},
   "source": [
    "Важно, что функция backtest меняет внутренние переменные всех модулей, что наверное не очень хорошо, и это нужно будет как-то переосмыслить, но вот какие результаты мы получаем."
   ]
  },
  {
   "cell_type": "code",
   "execution_count": 79,
   "metadata": {},
   "outputs": [
    {
     "data": {
      "text/html": [
       "<div>\n",
       "<style scoped>\n",
       "    .dataframe tbody tr th:only-of-type {\n",
       "        vertical-align: middle;\n",
       "    }\n",
       "\n",
       "    .dataframe tbody tr th {\n",
       "        vertical-align: top;\n",
       "    }\n",
       "\n",
       "    .dataframe thead th {\n",
       "        text-align: right;\n",
       "    }\n",
       "</style>\n",
       "<table border=\"1\" class=\"dataframe\">\n",
       "  <thead>\n",
       "    <tr style=\"text-align: right;\">\n",
       "      <th></th>\n",
       "      <th>BTCUSDT</th>\n",
       "      <th>cash</th>\n",
       "      <th>commission</th>\n",
       "      <th>total</th>\n",
       "      <th>returns</th>\n",
       "      <th>equity_curve</th>\n",
       "    </tr>\n",
       "    <tr>\n",
       "      <th>datetime</th>\n",
       "      <th></th>\n",
       "      <th></th>\n",
       "      <th></th>\n",
       "      <th></th>\n",
       "      <th></th>\n",
       "      <th></th>\n",
       "    </tr>\n",
       "  </thead>\n",
       "  <tbody>\n",
       "    <tr>\n",
       "      <th>2020-08-01 00:00:00</th>\n",
       "      <td>0.00</td>\n",
       "      <td>6500.0000</td>\n",
       "      <td>0.0000</td>\n",
       "      <td>6500.0000</td>\n",
       "      <td>NaN</td>\n",
       "      <td>NaN</td>\n",
       "    </tr>\n",
       "    <tr>\n",
       "      <th>2020-03-28 14:40:00</th>\n",
       "      <td>0.00</td>\n",
       "      <td>6500.0000</td>\n",
       "      <td>0.0000</td>\n",
       "      <td>6500.0000</td>\n",
       "      <td>0.000000</td>\n",
       "      <td>1.000000</td>\n",
       "    </tr>\n",
       "    <tr>\n",
       "      <th>2020-03-28 14:45:00</th>\n",
       "      <td>6229.25</td>\n",
       "      <td>275.7493</td>\n",
       "      <td>0.0007</td>\n",
       "      <td>6504.9993</td>\n",
       "      <td>0.000769</td>\n",
       "      <td>1.000769</td>\n",
       "    </tr>\n",
       "    <tr>\n",
       "      <th>2020-03-28 14:50:00</th>\n",
       "      <td>6235.50</td>\n",
       "      <td>275.7493</td>\n",
       "      <td>0.0007</td>\n",
       "      <td>6511.2493</td>\n",
       "      <td>0.000961</td>\n",
       "      <td>1.001731</td>\n",
       "    </tr>\n",
       "    <tr>\n",
       "      <th>2020-03-28 14:55:00</th>\n",
       "      <td>6239.00</td>\n",
       "      <td>275.7493</td>\n",
       "      <td>0.0007</td>\n",
       "      <td>6514.7493</td>\n",
       "      <td>0.000538</td>\n",
       "      <td>1.002269</td>\n",
       "    </tr>\n",
       "    <tr>\n",
       "      <th>...</th>\n",
       "      <td>...</td>\n",
       "      <td>...</td>\n",
       "      <td>...</td>\n",
       "      <td>...</td>\n",
       "      <td>...</td>\n",
       "      <td>...</td>\n",
       "    </tr>\n",
       "    <tr>\n",
       "      <th>2021-02-05 20:45:00</th>\n",
       "      <td>37716.00</td>\n",
       "      <td>275.7493</td>\n",
       "      <td>0.0007</td>\n",
       "      <td>37991.7493</td>\n",
       "      <td>-0.000421</td>\n",
       "      <td>5.844885</td>\n",
       "    </tr>\n",
       "    <tr>\n",
       "      <th>2021-02-05 20:50:00</th>\n",
       "      <td>37729.00</td>\n",
       "      <td>275.7493</td>\n",
       "      <td>0.0007</td>\n",
       "      <td>38004.7493</td>\n",
       "      <td>0.000342</td>\n",
       "      <td>5.846885</td>\n",
       "    </tr>\n",
       "    <tr>\n",
       "      <th>2021-02-05 20:55:00</th>\n",
       "      <td>37748.00</td>\n",
       "      <td>275.7493</td>\n",
       "      <td>0.0007</td>\n",
       "      <td>38023.7493</td>\n",
       "      <td>0.000500</td>\n",
       "      <td>5.849808</td>\n",
       "    </tr>\n",
       "    <tr>\n",
       "      <th>2021-02-05 21:00:00</th>\n",
       "      <td>37723.00</td>\n",
       "      <td>275.7493</td>\n",
       "      <td>0.0007</td>\n",
       "      <td>37998.7493</td>\n",
       "      <td>-0.000657</td>\n",
       "      <td>5.845961</td>\n",
       "    </tr>\n",
       "    <tr>\n",
       "      <th>2021-02-05 21:00:00</th>\n",
       "      <td>37723.00</td>\n",
       "      <td>275.7493</td>\n",
       "      <td>0.0007</td>\n",
       "      <td>37998.7493</td>\n",
       "      <td>0.000000</td>\n",
       "      <td>5.845961</td>\n",
       "    </tr>\n",
       "  </tbody>\n",
       "</table>\n",
       "<p>78698 rows × 6 columns</p>\n",
       "</div>"
      ],
      "text/plain": [
       "                      BTCUSDT       cash  commission       total   returns  \\\n",
       "datetime                                                                     \n",
       "2020-08-01 00:00:00      0.00  6500.0000      0.0000   6500.0000       NaN   \n",
       "2020-03-28 14:40:00      0.00  6500.0000      0.0000   6500.0000  0.000000   \n",
       "2020-03-28 14:45:00   6229.25   275.7493      0.0007   6504.9993  0.000769   \n",
       "2020-03-28 14:50:00   6235.50   275.7493      0.0007   6511.2493  0.000961   \n",
       "2020-03-28 14:55:00   6239.00   275.7493      0.0007   6514.7493  0.000538   \n",
       "...                       ...        ...         ...         ...       ...   \n",
       "2021-02-05 20:45:00  37716.00   275.7493      0.0007  37991.7493 -0.000421   \n",
       "2021-02-05 20:50:00  37729.00   275.7493      0.0007  38004.7493  0.000342   \n",
       "2021-02-05 20:55:00  37748.00   275.7493      0.0007  38023.7493  0.000500   \n",
       "2021-02-05 21:00:00  37723.00   275.7493      0.0007  37998.7493 -0.000657   \n",
       "2021-02-05 21:00:00  37723.00   275.7493      0.0007  37998.7493  0.000000   \n",
       "\n",
       "                     equity_curve  \n",
       "datetime                           \n",
       "2020-08-01 00:00:00           NaN  \n",
       "2020-03-28 14:40:00      1.000000  \n",
       "2020-03-28 14:45:00      1.000769  \n",
       "2020-03-28 14:50:00      1.001731  \n",
       "2020-03-28 14:55:00      1.002269  \n",
       "...                           ...  \n",
       "2021-02-05 20:45:00      5.844885  \n",
       "2021-02-05 20:50:00      5.846885  \n",
       "2021-02-05 20:55:00      5.849808  \n",
       "2021-02-05 21:00:00      5.845961  \n",
       "2021-02-05 21:00:00      5.845961  \n",
       "\n",
       "[78698 rows x 6 columns]"
      ]
     },
     "execution_count": 79,
     "metadata": {},
     "output_type": "execute_result"
    }
   ],
   "source": [
    "results"
   ]
  },
  {
   "cell_type": "markdown",
   "metadata": {},
   "source": [
    "И действительно, вложившись в биткойн в конце 2020 года мы бы имели в 6 раз больше вложенных денег. "
   ]
  },
  {
   "cell_type": "code",
   "execution_count": 81,
   "metadata": {
    "scrolled": true
   },
   "outputs": [
    {
     "data": {
      "image/png": "[encoded data removed]",
      "text/plain": [
       "<Figure size 432x288 with 1 Axes>"
      ]
     },
     "metadata": {
      "needs_background": "light"
     },
     "output_type": "display_data"
    }
   ],
   "source": [
    "results['equity_curve'].plot();"
   ]
  }
 ],
 "metadata": {
  "kernelspec": {
   "display_name": "Python 3 (ipykernel)",
   "language": "python",
   "name": "python3"
  },
  "language_info": {
   "codemirror_mode": {
    "name": "ipython",
    "version": 3
   },
   "file_extension": ".py",
   "mimetype": "text/x-python",
   "name": "python",
   "nbconvert_exporter": "python",
   "pygments_lexer": "ipython3",
   "version": "3.8.10"
  }
 },
 "nbformat": 4,
 "nbformat_minor": 2
}
