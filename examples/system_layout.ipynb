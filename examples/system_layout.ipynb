{
 "cells": [
  {
   "cell_type": "markdown",
   "id": "00bc5091",
   "metadata": {},
   "source": [
    "1. Data Feed       -> Passing to strategy\n",
    "2. Strategy        -> Signal creation\n",
    "3. Portolio        -> Signal approval and order creation\n",
    "4. Order execution -> Order execution, feedback"
   ]
  },
  {
   "cell_type": "markdown",
   "id": "0bd288d9",
   "metadata": {},
   "source": [
    "### Abstract classes"
   ]
  },
  {
   "cell_type": "code",
   "execution_count": 1,
   "id": "bb7ca2c8",
   "metadata": {},
   "outputs": [],
   "source": [
    "from abc import ABC, abstractmethod\n",
    "import threading, queue\n",
    "from glob import glob\n",
    "import time\n",
    "import csv\n",
    "import datetime as dt\n",
    "from typing import List, Any, Set\n",
    "from dataclasses import dataclass\n",
    "\n",
    "from enum import Enum\n",
    "\n",
    "import os"
   ]
  },
  {
   "cell_type": "markdown",
   "id": "5596503e",
   "metadata": {},
   "source": [
    "Бесконечно слушает данные, предаставляя бары по запросу, в порядке FIFO"
   ]
  },
  {
   "cell_type": "markdown",
   "id": "2dff7626",
   "metadata": {},
   "source": [
    "### Data Handler"
   ]
  },
  {
   "cell_type": "code",
   "execution_count": 2,
   "id": "8321dfa8",
   "metadata": {},
   "outputs": [],
   "source": [
    "### ============= DataHandler =============\n",
    "\n",
    "class DataHandler(ABC):\n",
    "    _paused = False\n",
    "    _exited = False\n",
    "    \n",
    "    def __init__(self, queue_size):\n",
    "        self.data = queue.Queue(queue_size)\n",
    "        self.t = threading.Thread(target=self.__run)\n",
    "    \n",
    "    def pause(self):\n",
    "        self._paused = True\n",
    "        \n",
    "    def unpause(self):\n",
    "        self._paused = False\n",
    "        \n",
    "    def exit(self):\n",
    "        self._exited = True\n",
    "        \n",
    "    def run(self):\n",
    "        self.unpause()\n",
    "        self.t.start()\n",
    "        \n",
    "    def __run(self):\n",
    "        while not self._exited:\n",
    "            \n",
    "            if self._paused:\n",
    "                time.sleep(1)\n",
    "                continue\n",
    "                \n",
    "            bars = self.update()\n",
    "            self.data.put(bars)\n",
    "    \n",
    "    def get(self, n: int = 1) -> List[Any]:\n",
    "        \"\"\" Returns n elements from queue \"\"\"\n",
    "        return [self.data.get() for _ in range(n)]\n",
    "        \n",
    "    @abstractmethod     \n",
    "    def update(self):\n",
    "        return NotImplementedError(\"Implement update method!\")"
   ]
  },
  {
   "cell_type": "code",
   "execution_count": 10,
   "id": "111c3506",
   "metadata": {},
   "outputs": [],
   "source": [
    "@dataclass\n",
    "class Bars:\n",
    "    symbol:    None\n",
    "    startTime: None\n",
    "    time:      dt.datetime\n",
    "    close:     float\n",
    "    open:      float\n",
    "    high:      float\n",
    "    low:       float\n",
    "    volume:    float\n",
    "        \n",
    "    def __post_init__(self):\n",
    "        self.startTime = dt.datetime.strptime(self.startTime, '%Y-%m-%dT%H:%M:%S%z').replace(tzinfo=None)\n",
    "        self.time      = dt.datetime.fromtimestamp(float(self.time) / 1000)\n",
    "        self.close     = float(self.close)\n",
    "        self.open      = float(self.open)\n",
    "        self.high      = float(self.high)\n",
    "        self.volume    = float(self.volume)\n",
    "        self.low       = float(self.low)\n",
    "        \n",
    "\n",
    "class MyDataHandler(DataHandler):\n",
    "    def __init__(self, paths, events, symbols=None, queue_size: int = 5, feed_name: str = 'DataFeed'):\n",
    "        super().__init__(queue_size)\n",
    "        \n",
    "        assert len(paths) > 0\n",
    "        self.paths       = paths\n",
    "        self.symbols     = [(os.path.basename(path).split('.')[0], path) for path in self.paths] if not symbols else symbols\n",
    "        self._iterators  = [(symbol, csv.DictReader(open(path, 'r'))) for symbol, path in self.symbols]\n",
    "        self.last_prices = list()\n",
    "    \n",
    "    def get_latest_bars(self, symbols):\n",
    "        return list(filter(lambda bars: bars.symbol in symbols, self.last_prices))\n",
    "        \n",
    "    def update(self):\n",
    "        self.last_prices = [Bars(**next(iterator), symbol=symbol) for symbol, iterator in self._iterators] \n",
    "        return self.last_prices\n",
    "    \n"
   ]
  },
  {
   "cell_type": "markdown",
   "id": "6259a05f",
   "metadata": {},
   "source": [
    "### Usage"
   ]
  },
  {
   "cell_type": "code",
   "execution_count": 11,
   "id": "0bdf950c",
   "metadata": {},
   "outputs": [
    {
     "data": {
      "text/plain": [
       "[[Bars(symbol='ABNBUSD', startTime=datetime.datetime(2020, 12, 9, 4, 30), time=datetime.datetime(2020, 12, 9, 7, 30), close=59.865, open=60.0775, high=60.0775, low=59.865, volume=0.0),\n",
       "  Bars(symbol='ETHUSDT', startTime=datetime.datetime(2020, 3, 28, 14, 40), time=datetime.datetime(2020, 3, 28, 17, 40), close=128.455, open=128.82, high=128.84, low=128.455, volume=0.0),\n",
       "  Bars(symbol='BTCUSDT', startTime=datetime.datetime(2020, 3, 28, 14, 40), time=datetime.datetime(2020, 3, 28, 17, 40), close=6224.25, open=6240.75, high=6241.0, low=6223.5, volume=0.0)],\n",
       " [Bars(symbol='ABNBUSD', startTime=datetime.datetime(2020, 12, 9, 4, 35), time=datetime.datetime(2020, 12, 9, 7, 35), close=59.99, open=59.865, high=59.99, low=59.865, volume=0.0),\n",
       "  Bars(symbol='ETHUSDT', startTime=datetime.datetime(2020, 3, 28, 14, 45), time=datetime.datetime(2020, 3, 28, 17, 45), close=128.565, open=128.455, high=128.67, low=128.42, volume=0.0),\n",
       "  Bars(symbol='BTCUSDT', startTime=datetime.datetime(2020, 3, 28, 14, 45), time=datetime.datetime(2020, 3, 28, 17, 45), close=6229.25, open=6224.25, high=6234.25, low=6223.25, volume=0.0)],\n",
       " [Bars(symbol='ABNBUSD', startTime=datetime.datetime(2020, 12, 9, 4, 40), time=datetime.datetime(2020, 12, 9, 7, 40), close=59.99, open=59.99, high=59.99, low=59.99, volume=0.0),\n",
       "  Bars(symbol='ETHUSDT', startTime=datetime.datetime(2020, 3, 28, 14, 50), time=datetime.datetime(2020, 3, 28, 17, 50), close=128.88, open=128.565, high=128.91, low=128.565, volume=0.0),\n",
       "  Bars(symbol='BTCUSDT', startTime=datetime.datetime(2020, 3, 28, 14, 50), time=datetime.datetime(2020, 3, 28, 17, 50), close=6235.5, open=6229.25, high=6237.25, low=6229.25, volume=0.0)],\n",
       " [Bars(symbol='ABNBUSD', startTime=datetime.datetime(2020, 12, 9, 4, 45), time=datetime.datetime(2020, 12, 9, 7, 45), close=60.29, open=59.99, high=60.29, low=59.99, volume=60.29),\n",
       "  Bars(symbol='ETHUSDT', startTime=datetime.datetime(2020, 3, 28, 14, 55), time=datetime.datetime(2020, 3, 28, 17, 55), close=128.975, open=128.88, high=129.145, low=128.875, volume=0.0),\n",
       "  Bars(symbol='BTCUSDT', startTime=datetime.datetime(2020, 3, 28, 14, 55), time=datetime.datetime(2020, 3, 28, 17, 55), close=6239.0, open=6235.5, high=6243.75, low=6235.25, volume=0.0)]]"
      ]
     },
     "execution_count": 11,
     "metadata": {},
     "output_type": "execute_result"
    }
   ],
   "source": [
    "paths = glob('../data/*.csv')\n",
    "dh = MyDataHandler(paths, None, queue_size=20)\n",
    "dh.run()\n",
    "dh.get(4)"
   ]
  },
  {
   "cell_type": "markdown",
   "id": "ae390f28",
   "metadata": {},
   "source": [
    "### Portfolio"
   ]
  },
  {
   "cell_type": "markdown",
   "id": "c980119b",
   "metadata": {},
   "source": [
    "#### Position,  Signal, OrderTypes, DirectionTypes"
   ]
  },
  {
   "cell_type": "code",
   "execution_count": 12,
   "id": "7d6b5cfe",
   "metadata": {},
   "outputs": [],
   "source": [
    "class OrderTypes(Enum):\n",
    "    limit = 0\n",
    "    market = 1\n",
    "    stop_loss = 2\n",
    "    market_stop_loss = 3\n",
    "    trailing_stop = 4\n",
    "    take_profit = 5\n",
    "    limit_take_profit = 6\n",
    "    \n",
    "class DirectionTypes(Enum):\n",
    "    SHORT = -1\n",
    "    EXIT = 0\n",
    "    LONG = 1\n",
    "    \n",
    "@dataclass\n",
    "class Signal:\n",
    "    symbol: str\n",
    "    price: float = None\n",
    "    volume: float = None\n",
    "    direction_type: DirectionTypes = None\n",
    "    enter_date: dt.datetime = None\n",
    "    enter_order_type: OrderTypes = None\n",
    "    \n",
    "@dataclass\n",
    "class Position:\n",
    "    symbol: str\n",
    "    price: float = None\n",
    "    volume: float = None\n",
    "    direction_type: DirectionTypes = None\n",
    "        \n",
    "    enter_date: dt.datetime = dt.datetime.now()\n",
    "    enter_order_type: OrderTypes = None\n",
    "        \n",
    "    filled: bool = False\n",
    "    market_value: float = None\n",
    "        \n",
    "    def __post_init__(self):\n",
    "        assert isinstance(self.price, (float, int))\n",
    "        assert isinstance(self.volume, (float, int))\n",
    "        assert isinstance(self.direction_type, DirectionTypes)\n",
    "        assert isinstance(self.enter_date, (dt.datetime, dt.date))\n",
    "        self.update_market_value()\n",
    "        \n",
    "        \n",
    "    def set_price(self, new_price):\n",
    "        assert isinstance(new_price, (float, int))\n",
    "        assert new_price > 0\n",
    "        self.price = new_price\n",
    "        self.update_market_value()\n",
    "        \n",
    "    \n",
    "    def add_position_value(self, value):\n",
    "        assert isinstance(value, (float, int))\n",
    "        self.volume += value\n",
    "        self.update_market_value()\n",
    "\n",
    "    def update_market_value(self):\n",
    "        self.market_value = self.price * self.volume\n",
    "        \n",
    "    def set_filled(self):\n",
    "        self.filled = True\n",
    "    \n",
    "    def __hash__(self):\n",
    "        return hash(self.symbol + str(self.enter_date.timestamp()))\n",
    "    \n",
    "    def __repr__(self):\n",
    "        return 'Position(enter_date={}, price={}, volume={}, direction={})'.format(self.enter_date,\n",
    "                                                                     self.price, self.volume, self.direction_type)"
   ]
  },
  {
   "cell_type": "code",
   "execution_count": 77,
   "id": "fac942d3",
   "metadata": {},
   "outputs": [],
   "source": [
    "class Portfolio(ABC):\n",
    "    \n",
    "    positions: List[Position] = list()\n",
    "    positions_names: Set[str] = set()\n",
    "\n",
    "    def add_position(self, position):\n",
    "        self.positions.append(position)\n",
    "        self.positions_names.add(position.symbol)\n",
    "        \n",
    "    @abstractmethod\n",
    "    def process_signal(self):\n",
    "        \"\"\" Пойдут в execution simulator \"\"\"\n",
    "        pass\n",
    "    \n",
    "    @abstractmethod\n",
    "    def process_fill(self):\n",
    "        \"\"\" Пойдут в holdings \"\"\"\n",
    "        pass\n",
    "    \n",
    "    \n",
    "class MyPortfolio(Portfolio):\n",
    "    \n",
    "    def __init__(self, data_handler: DataHandler, initial_cash: float = 100_000,\n",
    "                 start_date: dt.datetime = dt.datetime(2020, 1, 1),\n",
    "                 maximum_per_share: float = 0.5, one_lot_value: float = 0.1):\n",
    "        \n",
    "        self.cash = initial_cash\n",
    "        self.start_date = start_date\n",
    "        self.max_per_share = maximum_per_share\n",
    "        self.total_value = self.cash\n",
    "        self.dh = data_handler\n",
    "        self.value = self.cash\n",
    "        self.one_lot_value = one_lot_value\n",
    "        \n",
    "    \n",
    "    def update_positions_price(self):\n",
    "        \"\"\" Обновляем цены активов в позициях \"\"\"\n",
    "        bars = self.dh.get_latest_bars(self.positions_names)\n",
    "        \n",
    "        for position in self.positions:\n",
    "            new_bars = list(filter(lambda bar: bar.symbol == position.symbol, bars))\n",
    "            \n",
    "            if new_bars:\n",
    "                position.set_price(new_bars[-1].close)\n",
    "                \n",
    "        self.value = sum(position.price * position.volume for position in self.positions) + self.cash\n",
    "        \n",
    "\n",
    "    def process_signal(self, signal: Signal):\n",
    "        \"\"\" лонгуем пока размер позиции не превышает порога \"\"\"\n",
    "        self.update_positions_price()\n",
    "        \n",
    "        # Проверяем, что не лонгуем инструмент на величину большую максимально допустимой\n",
    "        if signal.direction_type == DirectionTypes.LONG:  \n",
    "            position = filter(lambda position: position.symbol == signal.symbol, self.positions)            \n",
    "            pos_size = sum(pos.price * pos.volume for pos in position)\n",
    "            pos_size += signal.price * signal.volume\n",
    "            \n",
    "            if pos_size / self.value > self.max_per_share:\n",
    "                return\n",
    "        \n",
    "        if signal.enter_date < self.start_date:\n",
    "            return\n",
    "        \n",
    "        if signal.price * signal.volume > self.cash:\n",
    "            return\n",
    "        \n",
    "        if signal.direction_type == DirectionTypes.EXIT:\n",
    "            if signal.symbol not in self.positions_names:\n",
    "                return\n",
    "            \n",
    "        return signal\n",
    "\n",
    "    def process_fill(self, position: Position):\n",
    "        self.add_position(position)\n",
    "        \n",
    "    "
   ]
  },
  {
   "cell_type": "code",
   "execution_count": 88,
   "id": "67145b83",
   "metadata": {},
   "outputs": [],
   "source": [
    "start_date = dt.datetime(year=2020, month=1, day=1).date()\n",
    "\n",
    "s = Signal(symbol='BTCUSDT',\n",
    "           price=2000,\n",
    "           volume=1,\n",
    "           direction_type=DirectionTypes.LONG,\n",
    "           enter_date=dt.datetime.now().date())\n",
    "\n",
    "p = MyPortfolio(data_handler=dh, start_date=start_date, maximum_per_share=0.2)\n",
    "signal = p.process_signal(s)"
   ]
  },
  {
   "cell_type": "markdown",
   "id": "738017f2",
   "metadata": {},
   "source": [
    "### Broker\n",
    "Хранит историю сделок, готовит репорты и отменяет ордеры в случае чего"
   ]
  },
  {
   "cell_type": "code",
   "execution_count": null,
   "id": "5d224684",
   "metadata": {},
   "outputs": [],
   "source": [
    "class Broker(ABC):\n",
    "    \n",
    "    def process_order():\n",
    "        pass\n",
    "    \n",
    "class MyBroker(Broker):\n",
    "    pass"
   ]
  },
  {
   "cell_type": "code",
   "execution_count": 85,
   "id": "7e9f5be2",
   "metadata": {},
   "outputs": [
    {
     "data": {
      "text/plain": [
       "Signal(symbol='BTCUSDT', price=2000, volume=1, direction_type=<DirectionTypes.LONG: 1>, enter_date=datetime.date(2021, 10, 28), enter_order_type=None)"
      ]
     },
     "execution_count": 85,
     "metadata": {},
     "output_type": "execute_result"
    }
   ],
   "source": [
    "signal"
   ]
  },
  {
   "cell_type": "code",
   "execution_count": 86,
   "id": "f4dfc161",
   "metadata": {},
   "outputs": [
    {
     "data": {
      "text/plain": [
       "[]"
      ]
     },
     "execution_count": 86,
     "metadata": {},
     "output_type": "execute_result"
    }
   ],
   "source": [
    "p.positions"
   ]
  },
  {
   "cell_type": "code",
   "execution_count": null,
   "id": "7956d992",
   "metadata": {},
   "outputs": [],
   "source": []
  },
  {
   "cell_type": "code",
   "execution_count": null,
   "id": "88185ffe",
   "metadata": {},
   "outputs": [],
   "source": []
  },
  {
   "cell_type": "markdown",
   "id": "0a23ab22",
   "metadata": {},
   "source": [
    "### Strategy"
   ]
  },
  {
   "cell_type": "code",
   "execution_count": 24,
   "id": "9614bab9",
   "metadata": {},
   "outputs": [],
   "source": [
    "class Strategy(ABC):\n",
    "    \n",
    "    @abstractmethod\n",
    "    def generate_signal(self):\n",
    "        pass\n",
    "\n",
    "\n",
    "class BuyAndHoldStrategy(Strategy):\n",
    "    def __init__(self, dh: DataHandler, portfolio: Portfolio):\n",
    "        self.dh = dh\n",
    "    \n",
    "    def generate_signal(self):\n",
    "        symbols = [symbol for symbol, _ in self.symbols]\n",
    "        \n",
    "        \n",
    "s = BuyAndHoldStrategy(dh, p)"
   ]
  },
  {
   "cell_type": "code",
   "execution_count": null,
   "id": "f472c9c0",
   "metadata": {},
   "outputs": [],
   "source": []
  },
  {
   "cell_type": "code",
   "execution_count": null,
   "id": "386c4fa4",
   "metadata": {},
   "outputs": [],
   "source": [
    "def backtest(events: queue.Queue(), bars: DataHandler, strategy: Strategy,\n",
    "             portfolio: Portfolio, broker: ExecutionHandler) -> None:\n",
    "\n",
    "    while True:\n",
    "        # Update the bars (specific backtest code, as opposed to live trading)\n",
    "        if bars.continue_backtest == True:\n",
    "            bars.update_bars()\n",
    "        else:\n",
    "            break\n",
    "\n",
    "        # Handle the events\n",
    "        while True:\n",
    "            try:\n",
    "                event = events.get(False)\n",
    "\n",
    "                if event is not None:\n",
    "                    if event.type == EventTypes.MARKET:\n",
    "                        strategy.calculate_signals(event)\n",
    "                        portfolio.update_timeindex(event)\n",
    "\n",
    "                    elif event.type == EventTypes.SIGNAL:\n",
    "                        portfolio.update_signal(event)\n",
    "\n",
    "                    elif event.type == EventTypes.ORDER:\n",
    "                        broker.execute_order(event)\n",
    "\n",
    "                    elif event.type == EventTypes.FILL:\n",
    "                        portfolio.update_fill(event)\n",
    "\n",
    "            except queue.Empty:\n",
    "                break"
   ]
  },
  {
   "cell_type": "code",
   "execution_count": null,
   "id": "ba8db45e",
   "metadata": {},
   "outputs": [],
   "source": []
  },
  {
   "cell_type": "code",
   "execution_count": null,
   "id": "180d05d3",
   "metadata": {},
   "outputs": [],
   "source": []
  },
  {
   "cell_type": "code",
   "execution_count": null,
   "id": "f063f433",
   "metadata": {},
   "outputs": [],
   "source": []
  },
  {
   "cell_type": "code",
   "execution_count": null,
   "id": "4995dcc2",
   "metadata": {},
   "outputs": [],
   "source": []
  },
  {
   "cell_type": "code",
   "execution_count": 24,
   "id": "e0ff639e",
   "metadata": {},
   "outputs": [],
   "source": [
    "data = queue.Queue(1)"
   ]
  },
  {
   "cell_type": "code",
   "execution_count": 25,
   "id": "596c52e8",
   "metadata": {},
   "outputs": [],
   "source": [
    "data.put(1)"
   ]
  },
  {
   "cell_type": "code",
   "execution_count": 27,
   "id": "7b11c93e",
   "metadata": {},
   "outputs": [
    {
     "ename": "KeyboardInterrupt",
     "evalue": "",
     "output_type": "error",
     "traceback": [
      "\u001b[0;31m---------------------------------------------------------------------------\u001b[0m",
      "\u001b[0;31mKeyboardInterrupt\u001b[0m                         Traceback (most recent call last)",
      "\u001b[0;32m/var/folders/50/f0syht996x3b6wb2llgjd0qm0000gn/T/ipykernel_2056/366397030.py\u001b[0m in \u001b[0;36m<module>\u001b[0;34m\u001b[0m\n\u001b[0;32m----> 1\u001b[0;31m \u001b[0mdata\u001b[0m\u001b[0;34m.\u001b[0m\u001b[0mget\u001b[0m\u001b[0;34m(\u001b[0m\u001b[0;34m)\u001b[0m\u001b[0;34m\u001b[0m\u001b[0;34m\u001b[0m\u001b[0m\n\u001b[0m",
      "\u001b[0;32m/Library/Frameworks/Python.framework/Versions/3.8/lib/python3.8/queue.py\u001b[0m in \u001b[0;36mget\u001b[0;34m(self, block, timeout)\u001b[0m\n\u001b[1;32m    168\u001b[0m             \u001b[0;32melif\u001b[0m \u001b[0mtimeout\u001b[0m \u001b[0;32mis\u001b[0m \u001b[0;32mNone\u001b[0m\u001b[0;34m:\u001b[0m\u001b[0;34m\u001b[0m\u001b[0;34m\u001b[0m\u001b[0m\n\u001b[1;32m    169\u001b[0m                 \u001b[0;32mwhile\u001b[0m \u001b[0;32mnot\u001b[0m \u001b[0mself\u001b[0m\u001b[0;34m.\u001b[0m\u001b[0m_qsize\u001b[0m\u001b[0;34m(\u001b[0m\u001b[0;34m)\u001b[0m\u001b[0;34m:\u001b[0m\u001b[0;34m\u001b[0m\u001b[0;34m\u001b[0m\u001b[0m\n\u001b[0;32m--> 170\u001b[0;31m                     \u001b[0mself\u001b[0m\u001b[0;34m.\u001b[0m\u001b[0mnot_empty\u001b[0m\u001b[0;34m.\u001b[0m\u001b[0mwait\u001b[0m\u001b[0;34m(\u001b[0m\u001b[0;34m)\u001b[0m\u001b[0;34m\u001b[0m\u001b[0;34m\u001b[0m\u001b[0m\n\u001b[0m\u001b[1;32m    171\u001b[0m             \u001b[0;32melif\u001b[0m \u001b[0mtimeout\u001b[0m \u001b[0;34m<\u001b[0m \u001b[0;36m0\u001b[0m\u001b[0;34m:\u001b[0m\u001b[0;34m\u001b[0m\u001b[0;34m\u001b[0m\u001b[0m\n\u001b[1;32m    172\u001b[0m                 \u001b[0;32mraise\u001b[0m \u001b[0mValueError\u001b[0m\u001b[0;34m(\u001b[0m\u001b[0;34m\"'timeout' must be a non-negative number\"\u001b[0m\u001b[0;34m)\u001b[0m\u001b[0;34m\u001b[0m\u001b[0;34m\u001b[0m\u001b[0m\n",
      "\u001b[0;32m/Library/Frameworks/Python.framework/Versions/3.8/lib/python3.8/threading.py\u001b[0m in \u001b[0;36mwait\u001b[0;34m(self, timeout)\u001b[0m\n\u001b[1;32m    300\u001b[0m         \u001b[0;32mtry\u001b[0m\u001b[0;34m:\u001b[0m    \u001b[0;31m# restore state no matter what (e.g., KeyboardInterrupt)\u001b[0m\u001b[0;34m\u001b[0m\u001b[0;34m\u001b[0m\u001b[0m\n\u001b[1;32m    301\u001b[0m             \u001b[0;32mif\u001b[0m \u001b[0mtimeout\u001b[0m \u001b[0;32mis\u001b[0m \u001b[0;32mNone\u001b[0m\u001b[0;34m:\u001b[0m\u001b[0;34m\u001b[0m\u001b[0;34m\u001b[0m\u001b[0m\n\u001b[0;32m--> 302\u001b[0;31m                 \u001b[0mwaiter\u001b[0m\u001b[0;34m.\u001b[0m\u001b[0macquire\u001b[0m\u001b[0;34m(\u001b[0m\u001b[0;34m)\u001b[0m\u001b[0;34m\u001b[0m\u001b[0;34m\u001b[0m\u001b[0m\n\u001b[0m\u001b[1;32m    303\u001b[0m                 \u001b[0mgotit\u001b[0m \u001b[0;34m=\u001b[0m \u001b[0;32mTrue\u001b[0m\u001b[0;34m\u001b[0m\u001b[0;34m\u001b[0m\u001b[0m\n\u001b[1;32m    304\u001b[0m             \u001b[0;32melse\u001b[0m\u001b[0;34m:\u001b[0m\u001b[0;34m\u001b[0m\u001b[0;34m\u001b[0m\u001b[0m\n",
      "\u001b[0;31mKeyboardInterrupt\u001b[0m: "
     ]
    }
   ],
   "source": [
    "data.get()"
   ]
  },
  {
   "cell_type": "code",
   "execution_count": 19,
   "id": "04b4f9df",
   "metadata": {},
   "outputs": [
    {
     "ename": "KeyboardInterrupt",
     "evalue": "",
     "output_type": "error",
     "traceback": [
      "\u001b[0;31m---------------------------------------------------------------------------\u001b[0m",
      "\u001b[0;31mKeyboardInterrupt\u001b[0m                         Traceback (most recent call last)",
      "\u001b[0;32m/var/folders/50/f0syht996x3b6wb2llgjd0qm0000gn/T/ipykernel_2056/3603602005.py\u001b[0m in \u001b[0;36m<module>\u001b[0;34m\u001b[0m\n\u001b[0;32m----> 1\u001b[0;31m \u001b[0mdata\u001b[0m\u001b[0;34m.\u001b[0m\u001b[0mput\u001b[0m\u001b[0;34m(\u001b[0m\u001b[0;36m2\u001b[0m\u001b[0;34m)\u001b[0m\u001b[0;34m\u001b[0m\u001b[0;34m\u001b[0m\u001b[0m\n\u001b[0m",
      "\u001b[0;32m/Library/Frameworks/Python.framework/Versions/3.8/lib/python3.8/queue.py\u001b[0m in \u001b[0;36mput\u001b[0;34m(self, item, block, timeout)\u001b[0m\n\u001b[1;32m    137\u001b[0m                 \u001b[0;32melif\u001b[0m \u001b[0mtimeout\u001b[0m \u001b[0;32mis\u001b[0m \u001b[0;32mNone\u001b[0m\u001b[0;34m:\u001b[0m\u001b[0;34m\u001b[0m\u001b[0;34m\u001b[0m\u001b[0m\n\u001b[1;32m    138\u001b[0m                     \u001b[0;32mwhile\u001b[0m \u001b[0mself\u001b[0m\u001b[0;34m.\u001b[0m\u001b[0m_qsize\u001b[0m\u001b[0;34m(\u001b[0m\u001b[0;34m)\u001b[0m \u001b[0;34m>=\u001b[0m \u001b[0mself\u001b[0m\u001b[0;34m.\u001b[0m\u001b[0mmaxsize\u001b[0m\u001b[0;34m:\u001b[0m\u001b[0;34m\u001b[0m\u001b[0;34m\u001b[0m\u001b[0m\n\u001b[0;32m--> 139\u001b[0;31m                         \u001b[0mself\u001b[0m\u001b[0;34m.\u001b[0m\u001b[0mnot_full\u001b[0m\u001b[0;34m.\u001b[0m\u001b[0mwait\u001b[0m\u001b[0;34m(\u001b[0m\u001b[0;34m)\u001b[0m\u001b[0;34m\u001b[0m\u001b[0;34m\u001b[0m\u001b[0m\n\u001b[0m\u001b[1;32m    140\u001b[0m                 \u001b[0;32melif\u001b[0m \u001b[0mtimeout\u001b[0m \u001b[0;34m<\u001b[0m \u001b[0;36m0\u001b[0m\u001b[0;34m:\u001b[0m\u001b[0;34m\u001b[0m\u001b[0;34m\u001b[0m\u001b[0m\n\u001b[1;32m    141\u001b[0m                     \u001b[0;32mraise\u001b[0m \u001b[0mValueError\u001b[0m\u001b[0;34m(\u001b[0m\u001b[0;34m\"'timeout' must be a non-negative number\"\u001b[0m\u001b[0;34m)\u001b[0m\u001b[0;34m\u001b[0m\u001b[0;34m\u001b[0m\u001b[0m\n",
      "\u001b[0;32m/Library/Frameworks/Python.framework/Versions/3.8/lib/python3.8/threading.py\u001b[0m in \u001b[0;36mwait\u001b[0;34m(self, timeout)\u001b[0m\n\u001b[1;32m    300\u001b[0m         \u001b[0;32mtry\u001b[0m\u001b[0;34m:\u001b[0m    \u001b[0;31m# restore state no matter what (e.g., KeyboardInterrupt)\u001b[0m\u001b[0;34m\u001b[0m\u001b[0;34m\u001b[0m\u001b[0m\n\u001b[1;32m    301\u001b[0m             \u001b[0;32mif\u001b[0m \u001b[0mtimeout\u001b[0m \u001b[0;32mis\u001b[0m \u001b[0;32mNone\u001b[0m\u001b[0;34m:\u001b[0m\u001b[0;34m\u001b[0m\u001b[0;34m\u001b[0m\u001b[0m\n\u001b[0;32m--> 302\u001b[0;31m                 \u001b[0mwaiter\u001b[0m\u001b[0;34m.\u001b[0m\u001b[0macquire\u001b[0m\u001b[0;34m(\u001b[0m\u001b[0;34m)\u001b[0m\u001b[0;34m\u001b[0m\u001b[0;34m\u001b[0m\u001b[0m\n\u001b[0m\u001b[1;32m    303\u001b[0m                 \u001b[0mgotit\u001b[0m \u001b[0;34m=\u001b[0m \u001b[0;32mTrue\u001b[0m\u001b[0;34m\u001b[0m\u001b[0;34m\u001b[0m\u001b[0m\n\u001b[1;32m    304\u001b[0m             \u001b[0;32melse\u001b[0m\u001b[0;34m:\u001b[0m\u001b[0;34m\u001b[0m\u001b[0;34m\u001b[0m\u001b[0m\n",
      "\u001b[0;31mKeyboardInterrupt\u001b[0m: "
     ]
    }
   ],
   "source": [
    "data.put(2)"
   ]
  },
  {
   "cell_type": "code",
   "execution_count": 5,
   "id": "0bfd8b1f",
   "metadata": {},
   "outputs": [
    {
     "name": "stdout",
     "output_type": "stream",
     "text": [
      "ABNBUSD.csv BTCUSDT.csv ETHUSDT.csv\r\n"
     ]
    }
   ],
   "source": [
    "!ls ../data"
   ]
  },
  {
   "cell_type": "code",
   "execution_count": null,
   "id": "69c72f5d",
   "metadata": {},
   "outputs": [],
   "source": []
  }
 ],
 "metadata": {
  "kernelspec": {
   "display_name": "Python 3 (ipykernel)",
   "language": "python",
   "name": "python3"
  },
  "language_info": {
   "codemirror_mode": {
    "name": "ipython",
    "version": 3
   },
   "file_extension": ".py",
   "mimetype": "text/x-python",
   "name": "python",
   "nbconvert_exporter": "python",
   "pygments_lexer": "ipython3",
   "version": "3.8.10"
  }
 },
 "nbformat": 4,
 "nbformat_minor": 5
}
